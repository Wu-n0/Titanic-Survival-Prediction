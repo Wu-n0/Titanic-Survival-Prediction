{
 "cells": [
  {
   "cell_type": "code",
   "execution_count": 1,
   "id": "334280a3",
   "metadata": {
    "_cell_guid": "48214983-4a17-4769-9a86-1ddb2c60aa1c",
    "_uuid": "525be75f-46ca-42b4-ae31-842d072e8a7a",
    "collapsed": false,
    "execution": {
     "iopub.execute_input": "2023-10-06T03:36:19.939895Z",
     "iopub.status.busy": "2023-10-06T03:36:19.939340Z",
     "iopub.status.idle": "2023-10-06T03:36:21.714914Z",
     "shell.execute_reply": "2023-10-06T03:36:21.713992Z"
    },
    "jupyter": {
     "outputs_hidden": false
    },
    "papermill": {
     "duration": 1.785719,
     "end_time": "2023-10-06T03:36:21.716776",
     "exception": false,
     "start_time": "2023-10-06T03:36:19.931057",
     "status": "completed"
    },
    "tags": []
   },
   "outputs": [
    {
     "name": "stdout",
     "output_type": "stream",
     "text": [
      "/kaggle/input/titanic/train.csv\n",
      "/kaggle/input/titanic/test.csv\n",
      "/kaggle/input/titanic/gender_submission.csv\n"
     ]
    }
   ],
   "source": [
    "import numpy as np \n",
    "import pandas as pd \n",
    "import matplotlib.pyplot as plt \n",
    "import seaborn as sns\n",
    "\n",
    "import os\n",
    "for dirname, _, filenames in os.walk('/kaggle/input'):\n",
    "    for filename in filenames:\n",
    "        print(os.path.join(dirname, filename))"
   ]
  },
  {
   "cell_type": "code",
   "execution_count": 2,
   "id": "59b51c2f",
   "metadata": {
    "_cell_guid": "e446b277-3deb-4c37-be2c-2c8f2332448b",
    "_uuid": "a3c575c2-61ee-4630-a486-cd5a2f3cb65a",
    "collapsed": false,
    "execution": {
     "iopub.execute_input": "2023-10-06T03:36:21.730633Z",
     "iopub.status.busy": "2023-10-06T03:36:21.730175Z",
     "iopub.status.idle": "2023-10-06T03:36:21.765517Z",
     "shell.execute_reply": "2023-10-06T03:36:21.763871Z"
    },
    "jupyter": {
     "outputs_hidden": false
    },
    "papermill": {
     "duration": 0.044807,
     "end_time": "2023-10-06T03:36:21.767846",
     "exception": false,
     "start_time": "2023-10-06T03:36:21.723039",
     "status": "completed"
    },
    "tags": []
   },
   "outputs": [],
   "source": [
    "df_train = pd.read_csv('/kaggle/input/titanic/train.csv') \n",
    "df_test = pd.read_csv('/kaggle/input/titanic/test.csv')\n",
    "df_sample  = pd.read_csv('/kaggle/input/titanic/gender_submission.csv')"
   ]
  },
  {
   "cell_type": "code",
   "execution_count": 3,
   "id": "51f42081",
   "metadata": {
    "_cell_guid": "f1069fec-deea-42f4-81b9-1d51f5655dea",
    "_uuid": "3effd620-aa2c-4b62-8e8b-bcb8e1a9ee1d",
    "collapsed": false,
    "execution": {
     "iopub.execute_input": "2023-10-06T03:36:21.783585Z",
     "iopub.status.busy": "2023-10-06T03:36:21.782070Z",
     "iopub.status.idle": "2023-10-06T03:36:21.806606Z",
     "shell.execute_reply": "2023-10-06T03:36:21.806031Z"
    },
    "jupyter": {
     "outputs_hidden": false
    },
    "papermill": {
     "duration": 0.033782,
     "end_time": "2023-10-06T03:36:21.808084",
     "exception": false,
     "start_time": "2023-10-06T03:36:21.774302",
     "status": "completed"
    },
    "tags": []
   },
   "outputs": [
    {
     "data": {
      "text/html": [
       "<div>\n",
       "<style scoped>\n",
       "    .dataframe tbody tr th:only-of-type {\n",
       "        vertical-align: middle;\n",
       "    }\n",
       "\n",
       "    .dataframe tbody tr th {\n",
       "        vertical-align: top;\n",
       "    }\n",
       "\n",
       "    .dataframe thead th {\n",
       "        text-align: right;\n",
       "    }\n",
       "</style>\n",
       "<table border=\"1\" class=\"dataframe\">\n",
       "  <thead>\n",
       "    <tr style=\"text-align: right;\">\n",
       "      <th></th>\n",
       "      <th>PassengerId</th>\n",
       "      <th>Survived</th>\n",
       "      <th>Pclass</th>\n",
       "      <th>Name</th>\n",
       "      <th>Sex</th>\n",
       "      <th>Age</th>\n",
       "      <th>SibSp</th>\n",
       "      <th>Parch</th>\n",
       "      <th>Ticket</th>\n",
       "      <th>Fare</th>\n",
       "      <th>Cabin</th>\n",
       "      <th>Embarked</th>\n",
       "    </tr>\n",
       "  </thead>\n",
       "  <tbody>\n",
       "    <tr>\n",
       "      <th>0</th>\n",
       "      <td>1</td>\n",
       "      <td>0</td>\n",
       "      <td>3</td>\n",
       "      <td>Braund, Mr. Owen Harris</td>\n",
       "      <td>male</td>\n",
       "      <td>22.0</td>\n",
       "      <td>1</td>\n",
       "      <td>0</td>\n",
       "      <td>A/5 21171</td>\n",
       "      <td>7.2500</td>\n",
       "      <td>NaN</td>\n",
       "      <td>S</td>\n",
       "    </tr>\n",
       "    <tr>\n",
       "      <th>1</th>\n",
       "      <td>2</td>\n",
       "      <td>1</td>\n",
       "      <td>1</td>\n",
       "      <td>Cumings, Mrs. John Bradley (Florence Briggs Th...</td>\n",
       "      <td>female</td>\n",
       "      <td>38.0</td>\n",
       "      <td>1</td>\n",
       "      <td>0</td>\n",
       "      <td>PC 17599</td>\n",
       "      <td>71.2833</td>\n",
       "      <td>C85</td>\n",
       "      <td>C</td>\n",
       "    </tr>\n",
       "    <tr>\n",
       "      <th>2</th>\n",
       "      <td>3</td>\n",
       "      <td>1</td>\n",
       "      <td>3</td>\n",
       "      <td>Heikkinen, Miss. Laina</td>\n",
       "      <td>female</td>\n",
       "      <td>26.0</td>\n",
       "      <td>0</td>\n",
       "      <td>0</td>\n",
       "      <td>STON/O2. 3101282</td>\n",
       "      <td>7.9250</td>\n",
       "      <td>NaN</td>\n",
       "      <td>S</td>\n",
       "    </tr>\n",
       "    <tr>\n",
       "      <th>3</th>\n",
       "      <td>4</td>\n",
       "      <td>1</td>\n",
       "      <td>1</td>\n",
       "      <td>Futrelle, Mrs. Jacques Heath (Lily May Peel)</td>\n",
       "      <td>female</td>\n",
       "      <td>35.0</td>\n",
       "      <td>1</td>\n",
       "      <td>0</td>\n",
       "      <td>113803</td>\n",
       "      <td>53.1000</td>\n",
       "      <td>C123</td>\n",
       "      <td>S</td>\n",
       "    </tr>\n",
       "    <tr>\n",
       "      <th>4</th>\n",
       "      <td>5</td>\n",
       "      <td>0</td>\n",
       "      <td>3</td>\n",
       "      <td>Allen, Mr. William Henry</td>\n",
       "      <td>male</td>\n",
       "      <td>35.0</td>\n",
       "      <td>0</td>\n",
       "      <td>0</td>\n",
       "      <td>373450</td>\n",
       "      <td>8.0500</td>\n",
       "      <td>NaN</td>\n",
       "      <td>S</td>\n",
       "    </tr>\n",
       "  </tbody>\n",
       "</table>\n",
       "</div>"
      ],
      "text/plain": [
       "   PassengerId  Survived  Pclass  \\\n",
       "0            1         0       3   \n",
       "1            2         1       1   \n",
       "2            3         1       3   \n",
       "3            4         1       1   \n",
       "4            5         0       3   \n",
       "\n",
       "                                                Name     Sex   Age  SibSp  \\\n",
       "0                            Braund, Mr. Owen Harris    male  22.0      1   \n",
       "1  Cumings, Mrs. John Bradley (Florence Briggs Th...  female  38.0      1   \n",
       "2                             Heikkinen, Miss. Laina  female  26.0      0   \n",
       "3       Futrelle, Mrs. Jacques Heath (Lily May Peel)  female  35.0      1   \n",
       "4                           Allen, Mr. William Henry    male  35.0      0   \n",
       "\n",
       "   Parch            Ticket     Fare Cabin Embarked  \n",
       "0      0         A/5 21171   7.2500   NaN        S  \n",
       "1      0          PC 17599  71.2833   C85        C  \n",
       "2      0  STON/O2. 3101282   7.9250   NaN        S  \n",
       "3      0            113803  53.1000  C123        S  \n",
       "4      0            373450   8.0500   NaN        S  "
      ]
     },
     "execution_count": 3,
     "metadata": {},
     "output_type": "execute_result"
    }
   ],
   "source": [
    "df_train.head()"
   ]
  },
  {
   "cell_type": "code",
   "execution_count": 4,
   "id": "5d314eeb",
   "metadata": {
    "_cell_guid": "0fe6264f-37bb-470c-81af-c04e7b66ce13",
    "_uuid": "5d708bd1-2b46-41f9-9045-2bf25fd65647",
    "collapsed": false,
    "execution": {
     "iopub.execute_input": "2023-10-06T03:36:21.821693Z",
     "iopub.status.busy": "2023-10-06T03:36:21.821011Z",
     "iopub.status.idle": "2023-10-06T03:36:21.850694Z",
     "shell.execute_reply": "2023-10-06T03:36:21.849700Z"
    },
    "jupyter": {
     "outputs_hidden": false
    },
    "papermill": {
     "duration": 0.038918,
     "end_time": "2023-10-06T03:36:21.853061",
     "exception": false,
     "start_time": "2023-10-06T03:36:21.814143",
     "status": "completed"
    },
    "tags": []
   },
   "outputs": [
    {
     "name": "stdout",
     "output_type": "stream",
     "text": [
      "<class 'pandas.core.frame.DataFrame'>\n",
      "RangeIndex: 891 entries, 0 to 890\n",
      "Data columns (total 12 columns):\n",
      " #   Column       Non-Null Count  Dtype  \n",
      "---  ------       --------------  -----  \n",
      " 0   PassengerId  891 non-null    int64  \n",
      " 1   Survived     891 non-null    int64  \n",
      " 2   Pclass       891 non-null    int64  \n",
      " 3   Name         891 non-null    object \n",
      " 4   Sex          891 non-null    object \n",
      " 5   Age          714 non-null    float64\n",
      " 6   SibSp        891 non-null    int64  \n",
      " 7   Parch        891 non-null    int64  \n",
      " 8   Ticket       891 non-null    object \n",
      " 9   Fare         891 non-null    float64\n",
      " 10  Cabin        204 non-null    object \n",
      " 11  Embarked     889 non-null    object \n",
      "dtypes: float64(2), int64(5), object(5)\n",
      "memory usage: 83.7+ KB\n"
     ]
    }
   ],
   "source": [
    "df_train.info()"
   ]
  },
  {
   "cell_type": "code",
   "execution_count": 5,
   "id": "6921aca1",
   "metadata": {
    "_cell_guid": "e85d24e6-a78f-4238-8763-ab99b8332d4d",
    "_uuid": "ac92ea32-b635-45b9-931b-f3fe57985b39",
    "collapsed": false,
    "execution": {
     "iopub.execute_input": "2023-10-06T03:36:21.869123Z",
     "iopub.status.busy": "2023-10-06T03:36:21.868817Z",
     "iopub.status.idle": "2023-10-06T03:36:21.893052Z",
     "shell.execute_reply": "2023-10-06T03:36:21.892287Z"
    },
    "jupyter": {
     "outputs_hidden": false
    },
    "papermill": {
     "duration": 0.034991,
     "end_time": "2023-10-06T03:36:21.894567",
     "exception": false,
     "start_time": "2023-10-06T03:36:21.859576",
     "status": "completed"
    },
    "tags": []
   },
   "outputs": [
    {
     "data": {
      "text/html": [
       "<div>\n",
       "<style scoped>\n",
       "    .dataframe tbody tr th:only-of-type {\n",
       "        vertical-align: middle;\n",
       "    }\n",
       "\n",
       "    .dataframe tbody tr th {\n",
       "        vertical-align: top;\n",
       "    }\n",
       "\n",
       "    .dataframe thead th {\n",
       "        text-align: right;\n",
       "    }\n",
       "</style>\n",
       "<table border=\"1\" class=\"dataframe\">\n",
       "  <thead>\n",
       "    <tr style=\"text-align: right;\">\n",
       "      <th></th>\n",
       "      <th>PassengerId</th>\n",
       "      <th>Survived</th>\n",
       "      <th>Pclass</th>\n",
       "      <th>Age</th>\n",
       "      <th>SibSp</th>\n",
       "      <th>Parch</th>\n",
       "      <th>Fare</th>\n",
       "    </tr>\n",
       "  </thead>\n",
       "  <tbody>\n",
       "    <tr>\n",
       "      <th>count</th>\n",
       "      <td>891.000000</td>\n",
       "      <td>891.000000</td>\n",
       "      <td>891.000000</td>\n",
       "      <td>714.000000</td>\n",
       "      <td>891.000000</td>\n",
       "      <td>891.000000</td>\n",
       "      <td>891.000000</td>\n",
       "    </tr>\n",
       "    <tr>\n",
       "      <th>mean</th>\n",
       "      <td>446.000000</td>\n",
       "      <td>0.383838</td>\n",
       "      <td>2.308642</td>\n",
       "      <td>29.699118</td>\n",
       "      <td>0.523008</td>\n",
       "      <td>0.381594</td>\n",
       "      <td>32.204208</td>\n",
       "    </tr>\n",
       "    <tr>\n",
       "      <th>std</th>\n",
       "      <td>257.353842</td>\n",
       "      <td>0.486592</td>\n",
       "      <td>0.836071</td>\n",
       "      <td>14.526497</td>\n",
       "      <td>1.102743</td>\n",
       "      <td>0.806057</td>\n",
       "      <td>49.693429</td>\n",
       "    </tr>\n",
       "    <tr>\n",
       "      <th>min</th>\n",
       "      <td>1.000000</td>\n",
       "      <td>0.000000</td>\n",
       "      <td>1.000000</td>\n",
       "      <td>0.420000</td>\n",
       "      <td>0.000000</td>\n",
       "      <td>0.000000</td>\n",
       "      <td>0.000000</td>\n",
       "    </tr>\n",
       "    <tr>\n",
       "      <th>25%</th>\n",
       "      <td>223.500000</td>\n",
       "      <td>0.000000</td>\n",
       "      <td>2.000000</td>\n",
       "      <td>20.125000</td>\n",
       "      <td>0.000000</td>\n",
       "      <td>0.000000</td>\n",
       "      <td>7.910400</td>\n",
       "    </tr>\n",
       "    <tr>\n",
       "      <th>50%</th>\n",
       "      <td>446.000000</td>\n",
       "      <td>0.000000</td>\n",
       "      <td>3.000000</td>\n",
       "      <td>28.000000</td>\n",
       "      <td>0.000000</td>\n",
       "      <td>0.000000</td>\n",
       "      <td>14.454200</td>\n",
       "    </tr>\n",
       "    <tr>\n",
       "      <th>75%</th>\n",
       "      <td>668.500000</td>\n",
       "      <td>1.000000</td>\n",
       "      <td>3.000000</td>\n",
       "      <td>38.000000</td>\n",
       "      <td>1.000000</td>\n",
       "      <td>0.000000</td>\n",
       "      <td>31.000000</td>\n",
       "    </tr>\n",
       "    <tr>\n",
       "      <th>max</th>\n",
       "      <td>891.000000</td>\n",
       "      <td>1.000000</td>\n",
       "      <td>3.000000</td>\n",
       "      <td>80.000000</td>\n",
       "      <td>8.000000</td>\n",
       "      <td>6.000000</td>\n",
       "      <td>512.329200</td>\n",
       "    </tr>\n",
       "  </tbody>\n",
       "</table>\n",
       "</div>"
      ],
      "text/plain": [
       "       PassengerId    Survived      Pclass         Age       SibSp  \\\n",
       "count   891.000000  891.000000  891.000000  714.000000  891.000000   \n",
       "mean    446.000000    0.383838    2.308642   29.699118    0.523008   \n",
       "std     257.353842    0.486592    0.836071   14.526497    1.102743   \n",
       "min       1.000000    0.000000    1.000000    0.420000    0.000000   \n",
       "25%     223.500000    0.000000    2.000000   20.125000    0.000000   \n",
       "50%     446.000000    0.000000    3.000000   28.000000    0.000000   \n",
       "75%     668.500000    1.000000    3.000000   38.000000    1.000000   \n",
       "max     891.000000    1.000000    3.000000   80.000000    8.000000   \n",
       "\n",
       "            Parch        Fare  \n",
       "count  891.000000  891.000000  \n",
       "mean     0.381594   32.204208  \n",
       "std      0.806057   49.693429  \n",
       "min      0.000000    0.000000  \n",
       "25%      0.000000    7.910400  \n",
       "50%      0.000000   14.454200  \n",
       "75%      0.000000   31.000000  \n",
       "max      6.000000  512.329200  "
      ]
     },
     "execution_count": 5,
     "metadata": {},
     "output_type": "execute_result"
    }
   ],
   "source": [
    "df_train.describe()"
   ]
  },
  {
   "cell_type": "code",
   "execution_count": 6,
   "id": "30682e93",
   "metadata": {
    "_cell_guid": "cc6c5515-6d48-4b3b-8b87-ae02c0ecb553",
    "_uuid": "c039ab41-73d6-4fc2-be39-77317d770e00",
    "collapsed": false,
    "execution": {
     "iopub.execute_input": "2023-10-06T03:36:21.908911Z",
     "iopub.status.busy": "2023-10-06T03:36:21.908078Z",
     "iopub.status.idle": "2023-10-06T03:36:21.916064Z",
     "shell.execute_reply": "2023-10-06T03:36:21.914591Z"
    },
    "jupyter": {
     "outputs_hidden": false
    },
    "papermill": {
     "duration": 0.017403,
     "end_time": "2023-10-06T03:36:21.918153",
     "exception": false,
     "start_time": "2023-10-06T03:36:21.900750",
     "status": "completed"
    },
    "tags": []
   },
   "outputs": [],
   "source": [
    "df_train.set_index('PassengerId', inplace=True)\n",
    "df_test.set_index('PassengerId', inplace=True)"
   ]
  },
  {
   "cell_type": "code",
   "execution_count": 7,
   "id": "52e63c16",
   "metadata": {
    "_cell_guid": "ab4a91f0-0a86-4e97-a823-0ae6b49323a5",
    "_uuid": "24c39247-4a3f-406a-9c03-ac5dbed9ce0a",
    "collapsed": false,
    "execution": {
     "iopub.execute_input": "2023-10-06T03:36:21.932160Z",
     "iopub.status.busy": "2023-10-06T03:36:21.931835Z",
     "iopub.status.idle": "2023-10-06T03:36:21.942318Z",
     "shell.execute_reply": "2023-10-06T03:36:21.940663Z"
    },
    "jupyter": {
     "outputs_hidden": false
    },
    "papermill": {
     "duration": 0.019585,
     "end_time": "2023-10-06T03:36:21.944437",
     "exception": false,
     "start_time": "2023-10-06T03:36:21.924852",
     "status": "completed"
    },
    "tags": []
   },
   "outputs": [],
   "source": [
    "df_num = df_train[['Age','SibSp','Parch','Fare']]\n",
    "df_cat = df_train[['Pclass','Sex','Ticket','Cabin','Embarked']]"
   ]
  },
  {
   "cell_type": "code",
   "execution_count": 8,
   "id": "499b3d5f",
   "metadata": {
    "_cell_guid": "1832751f-cf8b-4785-ba3f-1805a69cfbf6",
    "_uuid": "4e35d09b-bb28-4fc2-86f0-006f803520a1",
    "collapsed": false,
    "execution": {
     "iopub.execute_input": "2023-10-06T03:36:21.958397Z",
     "iopub.status.busy": "2023-10-06T03:36:21.958068Z",
     "iopub.status.idle": "2023-10-06T03:36:22.826666Z",
     "shell.execute_reply": "2023-10-06T03:36:22.825354Z"
    },
    "jupyter": {
     "outputs_hidden": false
    },
    "papermill": {
     "duration": 0.877952,
     "end_time": "2023-10-06T03:36:22.828865",
     "exception": false,
     "start_time": "2023-10-06T03:36:21.950913",
     "status": "completed"
    },
    "tags": []
   },
   "outputs": [
    {
     "data": {
      "image/png": "[encoded data removed]",
      "text/plain": [
       "<Figure size 640x480 with 1 Axes>"
      ]
     },
     "metadata": {},
     "output_type": "display_data"
    },
    {
     "data": {
      "image/png": "[encoded data removed]",
      "text/plain": [
       "<Figure size 640x480 with 1 Axes>"
      ]
     },
     "metadata": {},
     "output_type": "display_data"
    },
    {
     "data": {
      "image/png": "[encoded data removed]",
      "text/plain": [
       "<Figure size 640x480 with 1 Axes>"
      ]
     },
     "metadata": {},
     "output_type": "display_data"
    },
    {
     "data": {
      "image/png": "[encoded data removed]",
      "text/plain": [
       "<Figure size 640x480 with 1 Axes>"
      ]
     },
     "metadata": {},
     "output_type": "display_data"
    }
   ],
   "source": [
    "for i in df_num.columns:\n",
    "    sns.histplot(data=df_num[i])\n",
    "    plt.show()"
   ]
  },
  {
   "cell_type": "code",
   "execution_count": 9,
   "id": "7c439a1d",
   "metadata": {
    "_cell_guid": "bd27e17c-8733-4223-8a83-18a02b61eeee",
    "_uuid": "c369e210-7e38-4cb3-a24a-c856ec967097",
    "collapsed": false,
    "execution": {
     "iopub.execute_input": "2023-10-06T03:36:22.845402Z",
     "iopub.status.busy": "2023-10-06T03:36:22.845011Z",
     "iopub.status.idle": "2023-10-06T03:36:27.435532Z",
     "shell.execute_reply": "2023-10-06T03:36:27.434228Z"
    },
    "jupyter": {
     "outputs_hidden": false
    },
    "papermill": {
     "duration": 4.601643,
     "end_time": "2023-10-06T03:36:27.438213",
     "exception": false,
     "start_time": "2023-10-06T03:36:22.836570",
     "status": "completed"
    },
    "tags": []
   },
   "outputs": [
    {
     "data": {
      "image/png": "[encoded data removed]",
      "text/plain": [
       "<Figure size 640x480 with 1 Axes>"
      ]
     },
     "metadata": {},
     "output_type": "display_data"
    },
    {
     "data": {
      "image/png": "[encoded data removed]",
      "text/plain": [
       "<Figure size 640x480 with 1 Axes>"
      ]
     },
     "metadata": {},
     "output_type": "display_data"
    },
    {
     "data": {
      "image/png": "[encoded data removed]",
      "text/plain": [
       "<Figure size 640x480 with 1 Axes>"
      ]
     },
     "metadata": {},
     "output_type": "display_data"
    },
    {
     "data": {
      "image/png": "[encoded data removed]",
      "text/plain": [
       "<Figure size 640x480 with 1 Axes>"
      ]
     },
     "metadata": {},
     "output_type": "display_data"
    },
    {
     "data": {
      "image/png": "[encoded data removed]",
      "text/plain": [
       "<Figure size 640x480 with 1 Axes>"
      ]
     },
     "metadata": {},
     "output_type": "display_data"
    }
   ],
   "source": [
    "for column in df_cat.columns:\n",
    "    sns.countplot(data=df_cat, x=column)\n",
    "    plt.show()"
   ]
  },
  {
   "cell_type": "code",
   "execution_count": 10,
   "id": "fed4e6b2",
   "metadata": {
    "_cell_guid": "38d6b310-0eda-4cfe-8b6a-83ab8a1e4b99",
    "_uuid": "eda6854f-b0da-40e9-9668-3347be960abb",
    "collapsed": false,
    "execution": {
     "iopub.execute_input": "2023-10-06T03:36:27.456936Z",
     "iopub.status.busy": "2023-10-06T03:36:27.456636Z",
     "iopub.status.idle": "2023-10-06T03:36:33.765542Z",
     "shell.execute_reply": "2023-10-06T03:36:33.764771Z"
    },
    "jupyter": {
     "outputs_hidden": false
    },
    "papermill": {
     "duration": 6.319355,
     "end_time": "2023-10-06T03:36:33.767085",
     "exception": false,
     "start_time": "2023-10-06T03:36:27.447730",
     "status": "completed"
    },
    "tags": []
   },
   "outputs": [
    {
     "data": {
      "image/png": "[encoded data removed]",
      "text/plain": [
       "<Figure size 640x480 with 1 Axes>"
      ]
     },
     "metadata": {},
     "output_type": "display_data"
    },
    {
     "data": {
      "image/png": "[encoded data removed]",
      "text/plain": [
       "<Figure size 640x480 with 1 Axes>"
      ]
     },
     "metadata": {},
     "output_type": "display_data"
    },
    {
     "data": {
      "image/png": "[encoded data removed]",
      "text/plain": [
       "<Figure size 640x480 with 1 Axes>"
      ]
     },
     "metadata": {},
     "output_type": "display_data"
    },
    {
     "data": {
      "image/png": "[encoded data removed]",
      "text/plain": [
       "<Figure size 640x480 with 1 Axes>"
      ]
     },
     "metadata": {},
     "output_type": "display_data"
    },
    {
     "data": {
      "image/png": "[encoded data removed]",
      "text/plain": [
       "<Figure size 640x480 with 1 Axes>"
      ]
     },
     "metadata": {},
     "output_type": "display_data"
    }
   ],
   "source": [
    "for column in df_cat.columns:\n",
    "    sns.countplot(data=df_cat, x=column, hue=df_train['Survived'])\n",
    "    plt.show()"
   ]
  },
  {
   "cell_type": "code",
   "execution_count": 11,
   "id": "50a67b63",
   "metadata": {
    "_cell_guid": "012a9cfc-956d-4b9b-85e8-bf1ba43e4621",
    "_uuid": "ba8bf6b9-8609-4ad3-bf30-5cf2cf447ad2",
    "collapsed": false,
    "execution": {
     "iopub.execute_input": "2023-10-06T03:36:33.787048Z",
     "iopub.status.busy": "2023-10-06T03:36:33.786588Z",
     "iopub.status.idle": "2023-10-06T03:36:34.043698Z",
     "shell.execute_reply": "2023-10-06T03:36:34.042908Z"
    },
    "jupyter": {
     "outputs_hidden": false
    },
    "papermill": {
     "duration": 0.269179,
     "end_time": "2023-10-06T03:36:34.045515",
     "exception": false,
     "start_time": "2023-10-06T03:36:33.776336",
     "status": "completed"
    },
    "tags": []
   },
   "outputs": [
    {
     "data": {
      "text/plain": [
       "<Axes: >"
      ]
     },
     "execution_count": 11,
     "metadata": {},
     "output_type": "execute_result"
    },
    {
     "data": {
      "image/png": "[encoded data removed]",
      "text/plain": [
       "<Figure size 640x480 with 2 Axes>"
      ]
     },
     "metadata": {},
     "output_type": "display_data"
    }
   ],
   "source": [
    "sns.heatmap(df_train[['Age','SibSp','Parch','Fare','Pclass','Survived']].corr(), annot=True, cmap='coolwarm')"
   ]
  },
  {
   "cell_type": "code",
   "execution_count": 12,
   "id": "bd7f93cc",
   "metadata": {
    "_cell_guid": "26585f1c-b7f4-41a3-84f2-ce7df7d03693",
    "_uuid": "4452a9c5-45f5-4db1-81ef-abd98eb69e37",
    "collapsed": false,
    "execution": {
     "iopub.execute_input": "2023-10-06T03:36:34.067574Z",
     "iopub.status.busy": "2023-10-06T03:36:34.067272Z",
     "iopub.status.idle": "2023-10-06T03:36:34.084845Z",
     "shell.execute_reply": "2023-10-06T03:36:34.083089Z"
    },
    "jupyter": {
     "outputs_hidden": false
    },
    "papermill": {
     "duration": 0.031972,
     "end_time": "2023-10-06T03:36:34.087563",
     "exception": false,
     "start_time": "2023-10-06T03:36:34.055591",
     "status": "completed"
    },
    "tags": []
   },
   "outputs": [
    {
     "data": {
      "text/html": [
       "<div>\n",
       "<style scoped>\n",
       "    .dataframe tbody tr th:only-of-type {\n",
       "        vertical-align: middle;\n",
       "    }\n",
       "\n",
       "    .dataframe tbody tr th {\n",
       "        vertical-align: top;\n",
       "    }\n",
       "\n",
       "    .dataframe thead th {\n",
       "        text-align: right;\n",
       "    }\n",
       "</style>\n",
       "<table border=\"1\" class=\"dataframe\">\n",
       "  <thead>\n",
       "    <tr style=\"text-align: right;\">\n",
       "      <th></th>\n",
       "      <th>count</th>\n",
       "      <th>percentage</th>\n",
       "    </tr>\n",
       "  </thead>\n",
       "  <tbody>\n",
       "    <tr>\n",
       "      <th>Cabin</th>\n",
       "      <td>687</td>\n",
       "      <td>3.367647</td>\n",
       "    </tr>\n",
       "    <tr>\n",
       "      <th>Age</th>\n",
       "      <td>177</td>\n",
       "      <td>0.247899</td>\n",
       "    </tr>\n",
       "    <tr>\n",
       "      <th>Embarked</th>\n",
       "      <td>2</td>\n",
       "      <td>0.002250</td>\n",
       "    </tr>\n",
       "    <tr>\n",
       "      <th>Survived</th>\n",
       "      <td>0</td>\n",
       "      <td>0.000000</td>\n",
       "    </tr>\n",
       "    <tr>\n",
       "      <th>Pclass</th>\n",
       "      <td>0</td>\n",
       "      <td>0.000000</td>\n",
       "    </tr>\n",
       "    <tr>\n",
       "      <th>Name</th>\n",
       "      <td>0</td>\n",
       "      <td>0.000000</td>\n",
       "    </tr>\n",
       "    <tr>\n",
       "      <th>Sex</th>\n",
       "      <td>0</td>\n",
       "      <td>0.000000</td>\n",
       "    </tr>\n",
       "    <tr>\n",
       "      <th>SibSp</th>\n",
       "      <td>0</td>\n",
       "      <td>0.000000</td>\n",
       "    </tr>\n",
       "    <tr>\n",
       "      <th>Parch</th>\n",
       "      <td>0</td>\n",
       "      <td>0.000000</td>\n",
       "    </tr>\n",
       "    <tr>\n",
       "      <th>Ticket</th>\n",
       "      <td>0</td>\n",
       "      <td>0.000000</td>\n",
       "    </tr>\n",
       "    <tr>\n",
       "      <th>Fare</th>\n",
       "      <td>0</td>\n",
       "      <td>0.000000</td>\n",
       "    </tr>\n",
       "  </tbody>\n",
       "</table>\n",
       "</div>"
      ],
      "text/plain": [
       "          count  percentage\n",
       "Cabin       687    3.367647\n",
       "Age         177    0.247899\n",
       "Embarked      2    0.002250\n",
       "Survived      0    0.000000\n",
       "Pclass        0    0.000000\n",
       "Name          0    0.000000\n",
       "Sex           0    0.000000\n",
       "SibSp         0    0.000000\n",
       "Parch         0    0.000000\n",
       "Ticket        0    0.000000\n",
       "Fare          0    0.000000"
      ]
     },
     "execution_count": 12,
     "metadata": {},
     "output_type": "execute_result"
    }
   ],
   "source": [
    "count = df_train.isnull().sum().sort_values(ascending=False)\n",
    "percentage = (df_train.isnull().sum()/df_train.count())\n",
    "missing_data = pd.concat([count,percentage],axis=1,keys=['count','percentage'])\n",
    "missing_data"
   ]
  },
  {
   "cell_type": "code",
   "execution_count": 13,
   "id": "3a013226",
   "metadata": {
    "_cell_guid": "2a34ae08-5f1d-4acb-bbb9-312996aa122e",
    "_uuid": "1b823a49-af8a-444e-8535-1e01daab104d",
    "collapsed": false,
    "execution": {
     "iopub.execute_input": "2023-10-06T03:36:34.109555Z",
     "iopub.status.busy": "2023-10-06T03:36:34.108466Z",
     "iopub.status.idle": "2023-10-06T03:36:34.117723Z",
     "shell.execute_reply": "2023-10-06T03:36:34.116712Z"
    },
    "jupyter": {
     "outputs_hidden": false
    },
    "papermill": {
     "duration": 0.022731,
     "end_time": "2023-10-06T03:36:34.120258",
     "exception": false,
     "start_time": "2023-10-06T03:36:34.097527",
     "status": "completed"
    },
    "tags": []
   },
   "outputs": [],
   "source": [
    "df_train['Embarked'].fillna('S',inplace=True)\n",
    "df_test['Embarked'].fillna('S',inplace=True)\n",
    "\n",
    "df_train['Age'].fillna(df_train['Age'].median(), inplace=True)\n",
    "df_test['Age'].fillna(df_test['Age'].median(),inplace=True)\n",
    "\n",
    "df_train['Fare'].fillna(df_train['Fare'].median(), inplace=True)\n",
    "df_test['Fare'].fillna(df_test['Fare'].median(),inplace=True)"
   ]
  },
  {
   "cell_type": "code",
   "execution_count": 14,
   "id": "4f3c59a9",
   "metadata": {
    "_cell_guid": "64d06ac1-52db-43a2-ac5b-dac50da1afaf",
    "_uuid": "eb8ed543-18bf-4996-9040-4ad233f94010",
    "collapsed": false,
    "execution": {
     "iopub.execute_input": "2023-10-06T03:36:34.199766Z",
     "iopub.status.busy": "2023-10-06T03:36:34.198545Z",
     "iopub.status.idle": "2023-10-06T03:36:34.205998Z",
     "shell.execute_reply": "2023-10-06T03:36:34.205416Z"
    },
    "jupyter": {
     "outputs_hidden": false
    },
    "papermill": {
     "duration": 0.076974,
     "end_time": "2023-10-06T03:36:34.207696",
     "exception": false,
     "start_time": "2023-10-06T03:36:34.130722",
     "status": "completed"
    },
    "tags": []
   },
   "outputs": [
    {
     "data": {
      "text/plain": [
       "Survived      0\n",
       "Pclass        0\n",
       "Name          0\n",
       "Sex           0\n",
       "Age           0\n",
       "SibSp         0\n",
       "Parch         0\n",
       "Ticket        0\n",
       "Fare          0\n",
       "Cabin       687\n",
       "Embarked      0\n",
       "dtype: int64"
      ]
     },
     "execution_count": 14,
     "metadata": {},
     "output_type": "execute_result"
    }
   ],
   "source": [
    "df_train.isnull().sum()"
   ]
  },
  {
   "cell_type": "code",
   "execution_count": 15,
   "id": "52e61008",
   "metadata": {
    "_cell_guid": "c1a75ca0-e1b7-4884-a00c-4c009a86d3c9",
    "_uuid": "2ca75a8d-cb06-4974-8755-7a11821684e9",
    "collapsed": false,
    "execution": {
     "iopub.execute_input": "2023-10-06T03:36:34.230450Z",
     "iopub.status.busy": "2023-10-06T03:36:34.229037Z",
     "iopub.status.idle": "2023-10-06T03:36:34.244452Z",
     "shell.execute_reply": "2023-10-06T03:36:34.243150Z"
    },
    "jupyter": {
     "outputs_hidden": false
    },
    "papermill": {
     "duration": 0.028767,
     "end_time": "2023-10-06T03:36:34.246608",
     "exception": false,
     "start_time": "2023-10-06T03:36:34.217841",
     "status": "completed"
    },
    "tags": []
   },
   "outputs": [
    {
     "data": {
      "text/html": [
       "<div>\n",
       "<style scoped>\n",
       "    .dataframe tbody tr th:only-of-type {\n",
       "        vertical-align: middle;\n",
       "    }\n",
       "\n",
       "    .dataframe tbody tr th {\n",
       "        vertical-align: top;\n",
       "    }\n",
       "\n",
       "    .dataframe thead th {\n",
       "        text-align: right;\n",
       "    }\n",
       "</style>\n",
       "<table border=\"1\" class=\"dataframe\">\n",
       "  <thead>\n",
       "    <tr style=\"text-align: right;\">\n",
       "      <th></th>\n",
       "      <th>Survived</th>\n",
       "      <th>Pclass</th>\n",
       "      <th>Name</th>\n",
       "      <th>Sex</th>\n",
       "      <th>Age</th>\n",
       "      <th>SibSp</th>\n",
       "      <th>Parch</th>\n",
       "      <th>Ticket</th>\n",
       "      <th>Fare</th>\n",
       "      <th>Cabin</th>\n",
       "      <th>Embarked</th>\n",
       "    </tr>\n",
       "    <tr>\n",
       "      <th>PassengerId</th>\n",
       "      <th></th>\n",
       "      <th></th>\n",
       "      <th></th>\n",
       "      <th></th>\n",
       "      <th></th>\n",
       "      <th></th>\n",
       "      <th></th>\n",
       "      <th></th>\n",
       "      <th></th>\n",
       "      <th></th>\n",
       "      <th></th>\n",
       "    </tr>\n",
       "  </thead>\n",
       "  <tbody>\n",
       "    <tr>\n",
       "      <th>1</th>\n",
       "      <td>0</td>\n",
       "      <td>3</td>\n",
       "      <td>Braund, Mr. Owen Harris</td>\n",
       "      <td>male</td>\n",
       "      <td>22.0</td>\n",
       "      <td>1</td>\n",
       "      <td>0</td>\n",
       "      <td>A/5 21171</td>\n",
       "      <td>7.2500</td>\n",
       "      <td>NaN</td>\n",
       "      <td>S</td>\n",
       "    </tr>\n",
       "    <tr>\n",
       "      <th>2</th>\n",
       "      <td>1</td>\n",
       "      <td>1</td>\n",
       "      <td>Cumings, Mrs. John Bradley (Florence Briggs Th...</td>\n",
       "      <td>female</td>\n",
       "      <td>38.0</td>\n",
       "      <td>1</td>\n",
       "      <td>0</td>\n",
       "      <td>PC 17599</td>\n",
       "      <td>71.2833</td>\n",
       "      <td>C85</td>\n",
       "      <td>C</td>\n",
       "    </tr>\n",
       "    <tr>\n",
       "      <th>3</th>\n",
       "      <td>1</td>\n",
       "      <td>3</td>\n",
       "      <td>Heikkinen, Miss. Laina</td>\n",
       "      <td>female</td>\n",
       "      <td>26.0</td>\n",
       "      <td>0</td>\n",
       "      <td>0</td>\n",
       "      <td>STON/O2. 3101282</td>\n",
       "      <td>7.9250</td>\n",
       "      <td>NaN</td>\n",
       "      <td>S</td>\n",
       "    </tr>\n",
       "    <tr>\n",
       "      <th>4</th>\n",
       "      <td>1</td>\n",
       "      <td>1</td>\n",
       "      <td>Futrelle, Mrs. Jacques Heath (Lily May Peel)</td>\n",
       "      <td>female</td>\n",
       "      <td>35.0</td>\n",
       "      <td>1</td>\n",
       "      <td>0</td>\n",
       "      <td>113803</td>\n",
       "      <td>53.1000</td>\n",
       "      <td>C123</td>\n",
       "      <td>S</td>\n",
       "    </tr>\n",
       "    <tr>\n",
       "      <th>5</th>\n",
       "      <td>0</td>\n",
       "      <td>3</td>\n",
       "      <td>Allen, Mr. William Henry</td>\n",
       "      <td>male</td>\n",
       "      <td>35.0</td>\n",
       "      <td>0</td>\n",
       "      <td>0</td>\n",
       "      <td>373450</td>\n",
       "      <td>8.0500</td>\n",
       "      <td>NaN</td>\n",
       "      <td>S</td>\n",
       "    </tr>\n",
       "  </tbody>\n",
       "</table>\n",
       "</div>"
      ],
      "text/plain": [
       "             Survived  Pclass  \\\n",
       "PassengerId                     \n",
       "1                   0       3   \n",
       "2                   1       1   \n",
       "3                   1       3   \n",
       "4                   1       1   \n",
       "5                   0       3   \n",
       "\n",
       "                                                          Name     Sex   Age  \\\n",
       "PassengerId                                                                    \n",
       "1                                      Braund, Mr. Owen Harris    male  22.0   \n",
       "2            Cumings, Mrs. John Bradley (Florence Briggs Th...  female  38.0   \n",
       "3                                       Heikkinen, Miss. Laina  female  26.0   \n",
       "4                 Futrelle, Mrs. Jacques Heath (Lily May Peel)  female  35.0   \n",
       "5                                     Allen, Mr. William Henry    male  35.0   \n",
       "\n",
       "             SibSp  Parch            Ticket     Fare Cabin Embarked  \n",
       "PassengerId                                                          \n",
       "1                1      0         A/5 21171   7.2500   NaN        S  \n",
       "2                1      0          PC 17599  71.2833   C85        C  \n",
       "3                0      0  STON/O2. 3101282   7.9250   NaN        S  \n",
       "4                1      0            113803  53.1000  C123        S  \n",
       "5                0      0            373450   8.0500   NaN        S  "
      ]
     },
     "execution_count": 15,
     "metadata": {},
     "output_type": "execute_result"
    }
   ],
   "source": [
    "df_train.head()"
   ]
  },
  {
   "cell_type": "code",
   "execution_count": 16,
   "id": "e5aa1ac6",
   "metadata": {
    "_cell_guid": "e2615493-4d72-4296-ae62-5f68bbb977dd",
    "_uuid": "5e050650-ee9b-422d-bc8d-0b60b6b0c603",
    "collapsed": false,
    "execution": {
     "iopub.execute_input": "2023-10-06T03:36:34.269418Z",
     "iopub.status.busy": "2023-10-06T03:36:34.269069Z",
     "iopub.status.idle": "2023-10-06T03:36:34.284379Z",
     "shell.execute_reply": "2023-10-06T03:36:34.282973Z"
    },
    "jupyter": {
     "outputs_hidden": false
    },
    "papermill": {
     "duration": 0.029011,
     "end_time": "2023-10-06T03:36:34.287095",
     "exception": false,
     "start_time": "2023-10-06T03:36:34.258084",
     "status": "completed"
    },
    "tags": []
   },
   "outputs": [],
   "source": [
    "#FE column gender\n",
    "dummy1 = pd.get_dummies(df_train['Sex'],drop_first=True).astype(int)\n",
    "df_train.drop(['Sex'],axis=1,inplace=True)\n",
    "df_train = pd.concat([df_train, dummy1],axis=1)\n",
    "\n",
    "dummy2 = pd.get_dummies(df_test['Sex'],drop_first=True).astype(int)\n",
    "df_test.drop(['Sex'],axis=1,inplace=True)\n",
    "df_test = pd.concat([df_test, dummy2],axis=1)\n",
    "\n",
    "\n",
    "#FE Embarked \n",
    "dummy1 = pd.get_dummies(df_train['Embarked']).astype(int)\n",
    "df_train.drop(['Embarked'],axis=1,inplace=True)\n",
    "df_train = pd.concat([df_train,dummy1],axis=1)\n",
    "\n",
    "dummy2 = pd.get_dummies(df_test['Embarked']).astype(int)\n",
    "df_test.drop(['Embarked'],axis=1,inplace=True)\n",
    "df_test = pd.concat([df_test,dummy2],axis=1)"
   ]
  },
  {
   "cell_type": "code",
   "execution_count": 17,
   "id": "f0bdb0e3",
   "metadata": {
    "_cell_guid": "3c3b08d7-1f58-4462-9981-ba4b251c7c47",
    "_uuid": "086541e1-860a-4224-a759-b63544192536",
    "collapsed": false,
    "execution": {
     "iopub.execute_input": "2023-10-06T03:36:34.309227Z",
     "iopub.status.busy": "2023-10-06T03:36:34.308938Z",
     "iopub.status.idle": "2023-10-06T03:36:34.321588Z",
     "shell.execute_reply": "2023-10-06T03:36:34.320301Z"
    },
    "jupyter": {
     "outputs_hidden": false
    },
    "papermill": {
     "duration": 0.025949,
     "end_time": "2023-10-06T03:36:34.323590",
     "exception": false,
     "start_time": "2023-10-06T03:36:34.297641",
     "status": "completed"
    },
    "tags": []
   },
   "outputs": [],
   "source": [
    "#Pclass get dummies \n",
    "dummy1 = pd.get_dummies(df_train['Pclass']).astype(int)\n",
    "df_train.drop(['Pclass'],axis=1,inplace=True)\n",
    "df_train = pd.concat([df_train,dummy1],axis=1)\n",
    "\n",
    "dummy2 = pd.get_dummies(df_test['Pclass']).astype(int)\n",
    "df_test.drop(['Pclass'],axis=1,inplace=True)\n",
    "df_test = pd.concat([df_test,dummy2],axis=1)"
   ]
  },
  {
   "cell_type": "code",
   "execution_count": 18,
   "id": "edc54c21",
   "metadata": {
    "execution": {
     "iopub.execute_input": "2023-10-06T03:36:34.346671Z",
     "iopub.status.busy": "2023-10-06T03:36:34.346383Z",
     "iopub.status.idle": "2023-10-06T03:36:34.361148Z",
     "shell.execute_reply": "2023-10-06T03:36:34.360076Z"
    },
    "papermill": {
     "duration": 0.029357,
     "end_time": "2023-10-06T03:36:34.363387",
     "exception": false,
     "start_time": "2023-10-06T03:36:34.334030",
     "status": "completed"
    },
    "tags": []
   },
   "outputs": [],
   "source": [
    "#Extracting title from Name \n",
    "df_train['Name'] = df_train['Name'].apply(lambda x : x.split(',')[1].split('.')[0])\n",
    "df_test['Name'] = df_test['Name'].apply(lambda x : x.split(',')[1].split('.')[0])\n",
    "\n",
    "dummy1 = pd.get_dummies(df_train['Name']).astype(int)\n",
    "df_train.drop(['Name'],axis=1,inplace=True)\n",
    "df_train = pd.concat([df_train,dummy1],axis=1)\n",
    "\n",
    "dummy2 = pd.get_dummies(df_test['Name']).astype(int)\n",
    "df_test.drop(['Name'],axis=1,inplace=True)\n",
    "df_test = pd.concat([df_test,dummy2],axis=1)"
   ]
  },
  {
   "cell_type": "code",
   "execution_count": 19,
   "id": "db88c87d",
   "metadata": {
    "execution": {
     "iopub.execute_input": "2023-10-06T03:36:34.384561Z",
     "iopub.status.busy": "2023-10-06T03:36:34.384224Z",
     "iopub.status.idle": "2023-10-06T03:36:34.390619Z",
     "shell.execute_reply": "2023-10-06T03:36:34.389452Z"
    },
    "papermill": {
     "duration": 0.019488,
     "end_time": "2023-10-06T03:36:34.392926",
     "exception": false,
     "start_time": "2023-10-06T03:36:34.373438",
     "status": "completed"
    },
    "tags": []
   },
   "outputs": [],
   "source": [
    "#Extracting whether a ticket has a string in it\n",
    "df_train['Ticket'] = df_train['Ticket'].apply(lambda x : 1 if x.isnumeric() else 0)\n",
    "df_test['Ticket'] = df_test['Ticket'].apply(lambda x : 1 if x.isnumeric() else 0)"
   ]
  },
  {
   "cell_type": "code",
   "execution_count": 20,
   "id": "92b7a1d8",
   "metadata": {
    "execution": {
     "iopub.execute_input": "2023-10-06T03:36:34.416972Z",
     "iopub.status.busy": "2023-10-06T03:36:34.416611Z",
     "iopub.status.idle": "2023-10-06T03:36:34.429042Z",
     "shell.execute_reply": "2023-10-06T03:36:34.428185Z"
    },
    "papermill": {
     "duration": 0.027373,
     "end_time": "2023-10-06T03:36:34.431159",
     "exception": false,
     "start_time": "2023-10-06T03:36:34.403786",
     "status": "completed"
    },
    "tags": []
   },
   "outputs": [],
   "source": [
    "#Cabins start with strings. Can extract that and the values that are Null can be zero \n",
    "df_train['Cabin'] = df_train['Cabin'].apply(lambda x: 0 if pd.isna(x) else x[0])\n",
    "df_test['Cabin'] = df_test['Cabin'].apply(lambda x: 0 if pd.isna(x) else x[0])\n",
    "\n",
    "dummy1 = pd.get_dummies(df_train['Cabin']).astype(int)\n",
    "df_train.drop(['Cabin'],axis=1,inplace=True)\n",
    "df_train = pd.concat([df_train,dummy1],axis=1)\n",
    "\n",
    "dummy2 = pd.get_dummies(df_test['Cabin']).astype(int)\n",
    "df_test.drop(['Cabin'],axis=1,inplace=True)\n",
    "df_test = pd.concat([df_test,dummy2],axis=1)\n",
    "\n",
    "df_train.drop([0],axis=1,inplace=True)\n",
    "df_test.drop([0],axis=1,inplace=True)"
   ]
  },
  {
   "cell_type": "code",
   "execution_count": 21,
   "id": "f0ee53a0",
   "metadata": {
    "execution": {
     "iopub.execute_input": "2023-10-06T03:36:34.453672Z",
     "iopub.status.busy": "2023-10-06T03:36:34.453373Z",
     "iopub.status.idle": "2023-10-06T03:36:34.470936Z",
     "shell.execute_reply": "2023-10-06T03:36:34.469865Z"
    },
    "papermill": {
     "duration": 0.030701,
     "end_time": "2023-10-06T03:36:34.472710",
     "exception": false,
     "start_time": "2023-10-06T03:36:34.442009",
     "status": "completed"
    },
    "tags": []
   },
   "outputs": [
    {
     "data": {
      "text/html": [
       "<div>\n",
       "<style scoped>\n",
       "    .dataframe tbody tr th:only-of-type {\n",
       "        vertical-align: middle;\n",
       "    }\n",
       "\n",
       "    .dataframe tbody tr th {\n",
       "        vertical-align: top;\n",
       "    }\n",
       "\n",
       "    .dataframe thead th {\n",
       "        text-align: right;\n",
       "    }\n",
       "</style>\n",
       "<table border=\"1\" class=\"dataframe\">\n",
       "  <thead>\n",
       "    <tr style=\"text-align: right;\">\n",
       "      <th></th>\n",
       "      <th>Survived</th>\n",
       "      <th>Age</th>\n",
       "      <th>SibSp</th>\n",
       "      <th>Parch</th>\n",
       "      <th>Ticket</th>\n",
       "      <th>Fare</th>\n",
       "      <th>male</th>\n",
       "      <th>C</th>\n",
       "      <th>Q</th>\n",
       "      <th>S</th>\n",
       "      <th>...</th>\n",
       "      <th>Sir</th>\n",
       "      <th>the Countess</th>\n",
       "      <th>A</th>\n",
       "      <th>B</th>\n",
       "      <th>C</th>\n",
       "      <th>D</th>\n",
       "      <th>E</th>\n",
       "      <th>F</th>\n",
       "      <th>G</th>\n",
       "      <th>T</th>\n",
       "    </tr>\n",
       "    <tr>\n",
       "      <th>PassengerId</th>\n",
       "      <th></th>\n",
       "      <th></th>\n",
       "      <th></th>\n",
       "      <th></th>\n",
       "      <th></th>\n",
       "      <th></th>\n",
       "      <th></th>\n",
       "      <th></th>\n",
       "      <th></th>\n",
       "      <th></th>\n",
       "      <th></th>\n",
       "      <th></th>\n",
       "      <th></th>\n",
       "      <th></th>\n",
       "      <th></th>\n",
       "      <th></th>\n",
       "      <th></th>\n",
       "      <th></th>\n",
       "      <th></th>\n",
       "      <th></th>\n",
       "      <th></th>\n",
       "    </tr>\n",
       "  </thead>\n",
       "  <tbody>\n",
       "    <tr>\n",
       "      <th>1</th>\n",
       "      <td>0</td>\n",
       "      <td>22.0</td>\n",
       "      <td>1</td>\n",
       "      <td>0</td>\n",
       "      <td>0</td>\n",
       "      <td>7.2500</td>\n",
       "      <td>1</td>\n",
       "      <td>0</td>\n",
       "      <td>0</td>\n",
       "      <td>1</td>\n",
       "      <td>...</td>\n",
       "      <td>0</td>\n",
       "      <td>0</td>\n",
       "      <td>0</td>\n",
       "      <td>0</td>\n",
       "      <td>0</td>\n",
       "      <td>0</td>\n",
       "      <td>0</td>\n",
       "      <td>0</td>\n",
       "      <td>0</td>\n",
       "      <td>0</td>\n",
       "    </tr>\n",
       "    <tr>\n",
       "      <th>2</th>\n",
       "      <td>1</td>\n",
       "      <td>38.0</td>\n",
       "      <td>1</td>\n",
       "      <td>0</td>\n",
       "      <td>0</td>\n",
       "      <td>71.2833</td>\n",
       "      <td>0</td>\n",
       "      <td>1</td>\n",
       "      <td>0</td>\n",
       "      <td>0</td>\n",
       "      <td>...</td>\n",
       "      <td>0</td>\n",
       "      <td>0</td>\n",
       "      <td>0</td>\n",
       "      <td>0</td>\n",
       "      <td>1</td>\n",
       "      <td>0</td>\n",
       "      <td>0</td>\n",
       "      <td>0</td>\n",
       "      <td>0</td>\n",
       "      <td>0</td>\n",
       "    </tr>\n",
       "    <tr>\n",
       "      <th>3</th>\n",
       "      <td>1</td>\n",
       "      <td>26.0</td>\n",
       "      <td>0</td>\n",
       "      <td>0</td>\n",
       "      <td>0</td>\n",
       "      <td>7.9250</td>\n",
       "      <td>0</td>\n",
       "      <td>0</td>\n",
       "      <td>0</td>\n",
       "      <td>1</td>\n",
       "      <td>...</td>\n",
       "      <td>0</td>\n",
       "      <td>0</td>\n",
       "      <td>0</td>\n",
       "      <td>0</td>\n",
       "      <td>0</td>\n",
       "      <td>0</td>\n",
       "      <td>0</td>\n",
       "      <td>0</td>\n",
       "      <td>0</td>\n",
       "      <td>0</td>\n",
       "    </tr>\n",
       "    <tr>\n",
       "      <th>4</th>\n",
       "      <td>1</td>\n",
       "      <td>35.0</td>\n",
       "      <td>1</td>\n",
       "      <td>0</td>\n",
       "      <td>1</td>\n",
       "      <td>53.1000</td>\n",
       "      <td>0</td>\n",
       "      <td>0</td>\n",
       "      <td>0</td>\n",
       "      <td>1</td>\n",
       "      <td>...</td>\n",
       "      <td>0</td>\n",
       "      <td>0</td>\n",
       "      <td>0</td>\n",
       "      <td>0</td>\n",
       "      <td>1</td>\n",
       "      <td>0</td>\n",
       "      <td>0</td>\n",
       "      <td>0</td>\n",
       "      <td>0</td>\n",
       "      <td>0</td>\n",
       "    </tr>\n",
       "    <tr>\n",
       "      <th>5</th>\n",
       "      <td>0</td>\n",
       "      <td>35.0</td>\n",
       "      <td>0</td>\n",
       "      <td>0</td>\n",
       "      <td>1</td>\n",
       "      <td>8.0500</td>\n",
       "      <td>1</td>\n",
       "      <td>0</td>\n",
       "      <td>0</td>\n",
       "      <td>1</td>\n",
       "      <td>...</td>\n",
       "      <td>0</td>\n",
       "      <td>0</td>\n",
       "      <td>0</td>\n",
       "      <td>0</td>\n",
       "      <td>0</td>\n",
       "      <td>0</td>\n",
       "      <td>0</td>\n",
       "      <td>0</td>\n",
       "      <td>0</td>\n",
       "      <td>0</td>\n",
       "    </tr>\n",
       "    <tr>\n",
       "      <th>...</th>\n",
       "      <td>...</td>\n",
       "      <td>...</td>\n",
       "      <td>...</td>\n",
       "      <td>...</td>\n",
       "      <td>...</td>\n",
       "      <td>...</td>\n",
       "      <td>...</td>\n",
       "      <td>...</td>\n",
       "      <td>...</td>\n",
       "      <td>...</td>\n",
       "      <td>...</td>\n",
       "      <td>...</td>\n",
       "      <td>...</td>\n",
       "      <td>...</td>\n",
       "      <td>...</td>\n",
       "      <td>...</td>\n",
       "      <td>...</td>\n",
       "      <td>...</td>\n",
       "      <td>...</td>\n",
       "      <td>...</td>\n",
       "      <td>...</td>\n",
       "    </tr>\n",
       "    <tr>\n",
       "      <th>887</th>\n",
       "      <td>0</td>\n",
       "      <td>27.0</td>\n",
       "      <td>0</td>\n",
       "      <td>0</td>\n",
       "      <td>1</td>\n",
       "      <td>13.0000</td>\n",
       "      <td>1</td>\n",
       "      <td>0</td>\n",
       "      <td>0</td>\n",
       "      <td>1</td>\n",
       "      <td>...</td>\n",
       "      <td>0</td>\n",
       "      <td>0</td>\n",
       "      <td>0</td>\n",
       "      <td>0</td>\n",
       "      <td>0</td>\n",
       "      <td>0</td>\n",
       "      <td>0</td>\n",
       "      <td>0</td>\n",
       "      <td>0</td>\n",
       "      <td>0</td>\n",
       "    </tr>\n",
       "    <tr>\n",
       "      <th>888</th>\n",
       "      <td>1</td>\n",
       "      <td>19.0</td>\n",
       "      <td>0</td>\n",
       "      <td>0</td>\n",
       "      <td>1</td>\n",
       "      <td>30.0000</td>\n",
       "      <td>0</td>\n",
       "      <td>0</td>\n",
       "      <td>0</td>\n",
       "      <td>1</td>\n",
       "      <td>...</td>\n",
       "      <td>0</td>\n",
       "      <td>0</td>\n",
       "      <td>0</td>\n",
       "      <td>1</td>\n",
       "      <td>0</td>\n",
       "      <td>0</td>\n",
       "      <td>0</td>\n",
       "      <td>0</td>\n",
       "      <td>0</td>\n",
       "      <td>0</td>\n",
       "    </tr>\n",
       "    <tr>\n",
       "      <th>889</th>\n",
       "      <td>0</td>\n",
       "      <td>28.0</td>\n",
       "      <td>1</td>\n",
       "      <td>2</td>\n",
       "      <td>0</td>\n",
       "      <td>23.4500</td>\n",
       "      <td>0</td>\n",
       "      <td>0</td>\n",
       "      <td>0</td>\n",
       "      <td>1</td>\n",
       "      <td>...</td>\n",
       "      <td>0</td>\n",
       "      <td>0</td>\n",
       "      <td>0</td>\n",
       "      <td>0</td>\n",
       "      <td>0</td>\n",
       "      <td>0</td>\n",
       "      <td>0</td>\n",
       "      <td>0</td>\n",
       "      <td>0</td>\n",
       "      <td>0</td>\n",
       "    </tr>\n",
       "    <tr>\n",
       "      <th>890</th>\n",
       "      <td>1</td>\n",
       "      <td>26.0</td>\n",
       "      <td>0</td>\n",
       "      <td>0</td>\n",
       "      <td>1</td>\n",
       "      <td>30.0000</td>\n",
       "      <td>1</td>\n",
       "      <td>1</td>\n",
       "      <td>0</td>\n",
       "      <td>0</td>\n",
       "      <td>...</td>\n",
       "      <td>0</td>\n",
       "      <td>0</td>\n",
       "      <td>0</td>\n",
       "      <td>0</td>\n",
       "      <td>1</td>\n",
       "      <td>0</td>\n",
       "      <td>0</td>\n",
       "      <td>0</td>\n",
       "      <td>0</td>\n",
       "      <td>0</td>\n",
       "    </tr>\n",
       "    <tr>\n",
       "      <th>891</th>\n",
       "      <td>0</td>\n",
       "      <td>32.0</td>\n",
       "      <td>0</td>\n",
       "      <td>0</td>\n",
       "      <td>1</td>\n",
       "      <td>7.7500</td>\n",
       "      <td>1</td>\n",
       "      <td>0</td>\n",
       "      <td>1</td>\n",
       "      <td>0</td>\n",
       "      <td>...</td>\n",
       "      <td>0</td>\n",
       "      <td>0</td>\n",
       "      <td>0</td>\n",
       "      <td>0</td>\n",
       "      <td>0</td>\n",
       "      <td>0</td>\n",
       "      <td>0</td>\n",
       "      <td>0</td>\n",
       "      <td>0</td>\n",
       "      <td>0</td>\n",
       "    </tr>\n",
       "  </tbody>\n",
       "</table>\n",
       "<p>891 rows × 38 columns</p>\n",
       "</div>"
      ],
      "text/plain": [
       "             Survived   Age  SibSp  Parch  Ticket     Fare  male  C  Q  S  \\\n",
       "PassengerId                                                                 \n",
       "1                   0  22.0      1      0       0   7.2500     1  0  0  1   \n",
       "2                   1  38.0      1      0       0  71.2833     0  1  0  0   \n",
       "3                   1  26.0      0      0       0   7.9250     0  0  0  1   \n",
       "4                   1  35.0      1      0       1  53.1000     0  0  0  1   \n",
       "5                   0  35.0      0      0       1   8.0500     1  0  0  1   \n",
       "...               ...   ...    ...    ...     ...      ...   ... .. .. ..   \n",
       "887                 0  27.0      0      0       1  13.0000     1  0  0  1   \n",
       "888                 1  19.0      0      0       1  30.0000     0  0  0  1   \n",
       "889                 0  28.0      1      2       0  23.4500     0  0  0  1   \n",
       "890                 1  26.0      0      0       1  30.0000     1  1  0  0   \n",
       "891                 0  32.0      0      0       1   7.7500     1  0  1  0   \n",
       "\n",
       "             ...   Sir   the Countess  A  B  C  D  E  F  G  T  \n",
       "PassengerId  ...                                               \n",
       "1            ...     0              0  0  0  0  0  0  0  0  0  \n",
       "2            ...     0              0  0  0  1  0  0  0  0  0  \n",
       "3            ...     0              0  0  0  0  0  0  0  0  0  \n",
       "4            ...     0              0  0  0  1  0  0  0  0  0  \n",
       "5            ...     0              0  0  0  0  0  0  0  0  0  \n",
       "...          ...   ...            ... .. .. .. .. .. .. .. ..  \n",
       "887          ...     0              0  0  0  0  0  0  0  0  0  \n",
       "888          ...     0              0  0  1  0  0  0  0  0  0  \n",
       "889          ...     0              0  0  0  0  0  0  0  0  0  \n",
       "890          ...     0              0  0  0  1  0  0  0  0  0  \n",
       "891          ...     0              0  0  0  0  0  0  0  0  0  \n",
       "\n",
       "[891 rows x 38 columns]"
      ]
     },
     "execution_count": 21,
     "metadata": {},
     "output_type": "execute_result"
    }
   ],
   "source": [
    "df_train"
   ]
  },
  {
   "cell_type": "code",
   "execution_count": 22,
   "id": "d45d19fb",
   "metadata": {
    "execution": {
     "iopub.execute_input": "2023-10-06T03:36:34.494535Z",
     "iopub.status.busy": "2023-10-06T03:36:34.494189Z",
     "iopub.status.idle": "2023-10-06T03:36:34.689850Z",
     "shell.execute_reply": "2023-10-06T03:36:34.688481Z"
    },
    "papermill": {
     "duration": 0.208883,
     "end_time": "2023-10-06T03:36:34.691974",
     "exception": false,
     "start_time": "2023-10-06T03:36:34.483091",
     "status": "completed"
    },
    "tags": []
   },
   "outputs": [],
   "source": [
    "#normalize the data\n",
    "from sklearn.preprocessing import MinMaxScaler\n",
    "\n",
    "scaler = MinMaxScaler()\n",
    "df_train['Age'] = scaler.fit_transform(df_train[['Age']])\n",
    "df_test['Age'] = scaler.fit_transform(df_test[['Age']])"
   ]
  },
  {
   "cell_type": "code",
   "execution_count": 23,
   "id": "e0a94245",
   "metadata": {
    "execution": {
     "iopub.execute_input": "2023-10-06T03:36:34.715723Z",
     "iopub.status.busy": "2023-10-06T03:36:34.715346Z",
     "iopub.status.idle": "2023-10-06T03:36:34.727955Z",
     "shell.execute_reply": "2023-10-06T03:36:34.726856Z"
    },
    "papermill": {
     "duration": 0.026753,
     "end_time": "2023-10-06T03:36:34.729758",
     "exception": false,
     "start_time": "2023-10-06T03:36:34.703005",
     "status": "completed"
    },
    "tags": []
   },
   "outputs": [],
   "source": [
    "scaler = MinMaxScaler()\n",
    "df_train['Fare'] = scaler.fit_transform(df_train[['Fare']])\n",
    "df_test['Fare'] = scaler.fit_transform(df_test[['Fare']])"
   ]
  },
  {
   "cell_type": "code",
   "execution_count": 24,
   "id": "f232c875",
   "metadata": {
    "execution": {
     "iopub.execute_input": "2023-10-06T03:36:34.752753Z",
     "iopub.status.busy": "2023-10-06T03:36:34.752470Z",
     "iopub.status.idle": "2023-10-06T03:36:34.758931Z",
     "shell.execute_reply": "2023-10-06T03:36:34.757886Z"
    },
    "papermill": {
     "duration": 0.019966,
     "end_time": "2023-10-06T03:36:34.760703",
     "exception": false,
     "start_time": "2023-10-06T03:36:34.740737",
     "status": "completed"
    },
    "tags": []
   },
   "outputs": [],
   "source": [
    "#Run Machine learning algorithms \n",
    "X_train = df_train.drop(['Survived'],axis=1)\n",
    "y_train = df_train['Survived']\n",
    "X_test = df_test\n",
    "\n",
    "X_train.columns.values[6] = 'C_1'  \n",
    "X_test.columns.values[6] = 'C_1' \n",
    "\n",
    "X_train.columns = X_train.columns.astype(str)\n",
    "X_test.columns = X_test.columns.astype(str)\n",
    "\n",
    "\n"
   ]
  },
  {
   "cell_type": "code",
   "execution_count": 25,
   "id": "fb047ad5",
   "metadata": {
    "execution": {
     "iopub.execute_input": "2023-10-06T03:36:34.783272Z",
     "iopub.status.busy": "2023-10-06T03:36:34.782942Z",
     "iopub.status.idle": "2023-10-06T03:36:34.795850Z",
     "shell.execute_reply": "2023-10-06T03:36:34.794586Z"
    },
    "papermill": {
     "duration": 0.027115,
     "end_time": "2023-10-06T03:36:34.798576",
     "exception": false,
     "start_time": "2023-10-06T03:36:34.771461",
     "status": "completed"
    },
    "tags": []
   },
   "outputs": [],
   "source": [
    "# Identify discrepancies\n",
    "train_columns = set(X_train.columns)\n",
    "test_columns = set(X_test.columns)\n",
    "\n",
    "extra_columns_in_train = train_columns - test_columns\n",
    "extra_columns_in_test = test_columns - train_columns\n",
    "\n",
    "missing_columns = extra_columns_in_test.union(extra_columns_in_train)\n",
    "for column in missing_columns:\n",
    "    X_train[column] = 0  \n",
    "    X_test[column] = 0   \n",
    "    \n",
    "X_test = X_test[X_train.columns]\n",
    "    "
   ]
  },
  {
   "cell_type": "code",
   "execution_count": 26,
   "id": "587a1543",
   "metadata": {
    "execution": {
     "iopub.execute_input": "2023-10-06T03:36:34.820982Z",
     "iopub.status.busy": "2023-10-06T03:36:34.820686Z",
     "iopub.status.idle": "2023-10-06T03:36:35.528079Z",
     "shell.execute_reply": "2023-10-06T03:36:35.526738Z"
    },
    "papermill": {
     "duration": 0.72086,
     "end_time": "2023-10-06T03:36:35.530073",
     "exception": false,
     "start_time": "2023-10-06T03:36:34.809213",
     "status": "completed"
    },
    "tags": []
   },
   "outputs": [],
   "source": [
    "from sklearn.model_selection import cross_val_score\n",
    "from sklearn.naive_bayes import GaussianNB\n",
    "from sklearn.linear_model import LogisticRegression\n",
    "from sklearn import tree\n",
    "from sklearn.neighbors import KNeighborsClassifier\n",
    "from sklearn.ensemble import RandomForestClassifier\n",
    "from sklearn.svm import SVC\n",
    "from xgboost import XGBClassifier"
   ]
  },
  {
   "cell_type": "code",
   "execution_count": 27,
   "id": "023e4ee4",
   "metadata": {
    "execution": {
     "iopub.execute_input": "2023-10-06T03:36:35.554026Z",
     "iopub.status.busy": "2023-10-06T03:36:35.552754Z",
     "iopub.status.idle": "2023-10-06T03:36:35.588904Z",
     "shell.execute_reply": "2023-10-06T03:36:35.587762Z"
    },
    "papermill": {
     "duration": 0.049659,
     "end_time": "2023-10-06T03:36:35.590595",
     "exception": false,
     "start_time": "2023-10-06T03:36:35.540936",
     "status": "completed"
    },
    "tags": []
   },
   "outputs": [
    {
     "name": "stdout",
     "output_type": "stream",
     "text": [
      "[0.72067039 0.70786517 0.75280899 0.7752809  0.83146067]\n",
      "0.7576172242797062\n"
     ]
    }
   ],
   "source": [
    "gnb = GaussianNB()\n",
    "cv = cross_val_score(gnb,X_train,y_train,cv=5)\n",
    "print(cv)\n",
    "print(cv.mean())"
   ]
  },
  {
   "cell_type": "code",
   "execution_count": 28,
   "id": "f8045a98",
   "metadata": {
    "execution": {
     "iopub.execute_input": "2023-10-06T03:36:35.613736Z",
     "iopub.status.busy": "2023-10-06T03:36:35.613396Z",
     "iopub.status.idle": "2023-10-06T03:36:35.735718Z",
     "shell.execute_reply": "2023-10-06T03:36:35.735016Z"
    },
    "papermill": {
     "duration": 0.136047,
     "end_time": "2023-10-06T03:36:35.737461",
     "exception": false,
     "start_time": "2023-10-06T03:36:35.601414",
     "status": "completed"
    },
    "tags": []
   },
   "outputs": [
    {
     "name": "stdout",
     "output_type": "stream",
     "text": [
      "[0.81564246 0.81460674 0.83146067 0.81460674 0.85393258]\n",
      "0.8260498399347185\n"
     ]
    }
   ],
   "source": [
    "lr = LogisticRegression(max_iter = 2000)\n",
    "cv = cross_val_score(lr,X_train,y_train,cv=5)\n",
    "print(cv)\n",
    "print(cv.mean())"
   ]
  },
  {
   "cell_type": "code",
   "execution_count": 29,
   "id": "17829245",
   "metadata": {
    "execution": {
     "iopub.execute_input": "2023-10-06T03:36:35.771348Z",
     "iopub.status.busy": "2023-10-06T03:36:35.770954Z",
     "iopub.status.idle": "2023-10-06T03:36:35.829279Z",
     "shell.execute_reply": "2023-10-06T03:36:35.828568Z"
    },
    "papermill": {
     "duration": 0.077451,
     "end_time": "2023-10-06T03:36:35.831273",
     "exception": false,
     "start_time": "2023-10-06T03:36:35.753822",
     "status": "completed"
    },
    "tags": []
   },
   "outputs": [
    {
     "name": "stdout",
     "output_type": "stream",
     "text": [
      "[0.75418994 0.76404494 0.81460674 0.75280899 0.80898876]\n",
      "0.778927876467265\n"
     ]
    }
   ],
   "source": [
    "dt = tree.DecisionTreeClassifier(random_state = 1)\n",
    "cv = cross_val_score(dt,X_train,y_train,cv=5)\n",
    "print(cv)\n",
    "print(cv.mean())"
   ]
  },
  {
   "cell_type": "code",
   "execution_count": 30,
   "id": "f60bd9f8",
   "metadata": {
    "execution": {
     "iopub.execute_input": "2023-10-06T03:36:35.860997Z",
     "iopub.status.busy": "2023-10-06T03:36:35.860687Z",
     "iopub.status.idle": "2023-10-06T03:36:35.993604Z",
     "shell.execute_reply": "2023-10-06T03:36:35.992225Z"
    },
    "papermill": {
     "duration": 0.146658,
     "end_time": "2023-10-06T03:36:35.995361",
     "exception": false,
     "start_time": "2023-10-06T03:36:35.848703",
     "status": "completed"
    },
    "tags": []
   },
   "outputs": [
    {
     "name": "stdout",
     "output_type": "stream",
     "text": [
      "[0.79329609 0.78089888 0.85393258 0.7752809  0.85955056]\n",
      "0.8125918021467579\n"
     ]
    }
   ],
   "source": [
    "knn = KNeighborsClassifier()\n",
    "cv = cross_val_score(knn,X_train,y_train,cv=5)\n",
    "print(cv)\n",
    "print(cv.mean())"
   ]
  },
  {
   "cell_type": "code",
   "execution_count": 31,
   "id": "19e809c6",
   "metadata": {
    "execution": {
     "iopub.execute_input": "2023-10-06T03:36:36.016965Z",
     "iopub.status.busy": "2023-10-06T03:36:36.016605Z",
     "iopub.status.idle": "2023-10-06T03:36:36.721092Z",
     "shell.execute_reply": "2023-10-06T03:36:36.719836Z"
    },
    "papermill": {
     "duration": 0.717957,
     "end_time": "2023-10-06T03:36:36.723430",
     "exception": false,
     "start_time": "2023-10-06T03:36:36.005473",
     "status": "completed"
    },
    "tags": []
   },
   "outputs": [
    {
     "name": "stdout",
     "output_type": "stream",
     "text": [
      "[0.82681564 0.7752809  0.84831461 0.73595506 0.81460674]\n",
      "0.8001945891657775\n"
     ]
    }
   ],
   "source": [
    "rf = RandomForestClassifier()\n",
    "cv = cross_val_score(rf,X_train,y_train,cv=5)\n",
    "print(cv)\n",
    "print(cv.mean())"
   ]
  },
  {
   "cell_type": "code",
   "execution_count": 32,
   "id": "75bfd88f",
   "metadata": {
    "execution": {
     "iopub.execute_input": "2023-10-06T03:36:36.746298Z",
     "iopub.status.busy": "2023-10-06T03:36:36.745930Z",
     "iopub.status.idle": "2023-10-06T03:36:37.084824Z",
     "shell.execute_reply": "2023-10-06T03:36:37.083190Z"
    },
    "papermill": {
     "duration": 0.35323,
     "end_time": "2023-10-06T03:36:37.087232",
     "exception": false,
     "start_time": "2023-10-06T03:36:36.734002",
     "status": "completed"
    },
    "tags": []
   },
   "outputs": [
    {
     "name": "stdout",
     "output_type": "stream",
     "text": [
      "[0.83798883 0.82022472 0.8258427  0.80337079 0.85393258]\n",
      "0.8282719226664993\n"
     ]
    }
   ],
   "source": [
    "svc = SVC(probability = True)\n",
    "cv = cross_val_score(svc,X_train,y_train,cv=5)\n",
    "print(cv)\n",
    "print(cv.mean())"
   ]
  },
  {
   "cell_type": "code",
   "execution_count": 33,
   "id": "52ee5360",
   "metadata": {
    "execution": {
     "iopub.execute_input": "2023-10-06T03:36:37.109785Z",
     "iopub.status.busy": "2023-10-06T03:36:37.109436Z",
     "iopub.status.idle": "2023-10-06T03:36:37.711747Z",
     "shell.execute_reply": "2023-10-06T03:36:37.711147Z"
    },
    "papermill": {
     "duration": 0.61535,
     "end_time": "2023-10-06T03:36:37.713253",
     "exception": false,
     "start_time": "2023-10-06T03:36:37.097903",
     "status": "completed"
    },
    "tags": []
   },
   "outputs": [
    {
     "name": "stdout",
     "output_type": "stream",
     "text": [
      "[0.80446927 0.81460674 0.87640449 0.79775281 0.83146067]\n",
      "0.824938798568828\n"
     ]
    }
   ],
   "source": [
    "xgb = XGBClassifier()\n",
    "cv = cross_val_score(xgb,X_train,y_train,cv=5)\n",
    "print(cv)\n",
    "print(cv.mean())"
   ]
  },
  {
   "cell_type": "code",
   "execution_count": 34,
   "id": "b0bdf2ad",
   "metadata": {
    "execution": {
     "iopub.execute_input": "2023-10-06T03:36:37.737133Z",
     "iopub.status.busy": "2023-10-06T03:36:37.736192Z",
     "iopub.status.idle": "2023-10-06T03:36:39.565595Z",
     "shell.execute_reply": "2023-10-06T03:36:39.564932Z"
    },
    "papermill": {
     "duration": 1.84289,
     "end_time": "2023-10-06T03:36:39.567166",
     "exception": false,
     "start_time": "2023-10-06T03:36:37.724276",
     "status": "completed"
    },
    "tags": []
   },
   "outputs": [
    {
     "name": "stdout",
     "output_type": "stream",
     "text": [
      "[0.81005587 0.82022472 0.83707865 0.79775281 0.86516854]\n",
      "0.8260561170045821\n"
     ]
    }
   ],
   "source": [
    "from sklearn.ensemble import VotingClassifier\n",
    "voting_clf = VotingClassifier(estimators = [('lr',lr),('knn',knn),('rf',rf),('gnb',gnb),('svc',svc),('xgb',xgb)], voting = 'soft') \n",
    "cv = cross_val_score(voting_clf,X_train,y_train,cv=5)\n",
    "print(cv)\n",
    "print(cv.mean())"
   ]
  },
  {
   "cell_type": "code",
   "execution_count": 35,
   "id": "d7f746d4",
   "metadata": {
    "execution": {
     "iopub.execute_input": "2023-10-06T03:36:39.591075Z",
     "iopub.status.busy": "2023-10-06T03:36:39.590283Z",
     "iopub.status.idle": "2023-10-06T03:36:39.594532Z",
     "shell.execute_reply": "2023-10-06T03:36:39.593552Z"
    },
    "papermill": {
     "duration": 0.018078,
     "end_time": "2023-10-06T03:36:39.596486",
     "exception": false,
     "start_time": "2023-10-06T03:36:39.578408",
     "status": "completed"
    },
    "tags": []
   },
   "outputs": [],
   "source": [
    "#voting_clf.fit(X_train,y_train)\n",
    "#pred_1 = voting_clf.predict(X_test).astype(int)\n",
    "\n",
    "#first_submission = {'PassengerId': df_test.index, 'Survived': pred_1}\n",
    "#first_submission = pd.DataFrame(data=first_submission)\n",
    "#first_submission.to_csv('submission.csv', index=False)"
   ]
  },
  {
   "cell_type": "code",
   "execution_count": 36,
   "id": "b966c8c3",
   "metadata": {
    "execution": {
     "iopub.execute_input": "2023-10-06T03:36:39.620790Z",
     "iopub.status.busy": "2023-10-06T03:36:39.620219Z",
     "iopub.status.idle": "2023-10-06T03:36:39.625183Z",
     "shell.execute_reply": "2023-10-06T03:36:39.624091Z"
    },
    "papermill": {
     "duration": 0.019256,
     "end_time": "2023-10-06T03:36:39.627187",
     "exception": false,
     "start_time": "2023-10-06T03:36:39.607931",
     "status": "completed"
    },
    "tags": []
   },
   "outputs": [],
   "source": [
    "from sklearn.model_selection import GridSearchCV \n",
    "from sklearn.model_selection import RandomizedSearchCV \n",
    "from scipy.stats import uniform, expon\n",
    "\n",
    "def clf_performance(classifier, model_name):\n",
    "    print(model_name)\n",
    "    print('Best Score: ' + str(classifier.best_score_))\n",
    "    print('Best Parameters: ' + str(classifier.best_params_))"
   ]
  },
  {
   "cell_type": "code",
   "execution_count": 37,
   "id": "cfd91a67",
   "metadata": {
    "execution": {
     "iopub.execute_input": "2023-10-06T03:36:39.652536Z",
     "iopub.status.busy": "2023-10-06T03:36:39.652191Z",
     "iopub.status.idle": "2023-10-06T03:36:43.019267Z",
     "shell.execute_reply": "2023-10-06T03:36:43.018124Z"
    },
    "papermill": {
     "duration": 3.38286,
     "end_time": "2023-10-06T03:36:43.021468",
     "exception": false,
     "start_time": "2023-10-06T03:36:39.638608",
     "status": "completed"
    },
    "tags": []
   },
   "outputs": [
    {
     "name": "stdout",
     "output_type": "stream",
     "text": [
      "Fitting 5 folds for each of 40 candidates, totalling 200 fits\n",
      "Logistic Regression\n",
      "Best Score: 0.8282907538760906\n",
      "Best Parameters: {'C': 1.623776739188721, 'max_iter': 2000, 'penalty': 'l2', 'solver': 'liblinear'}\n"
     ]
    }
   ],
   "source": [
    "lr = LogisticRegression()\n",
    "param_grid = {'max_iter' : [2000],\n",
    "              'penalty' : ['l1', 'l2'],\n",
    "              'C' : np.logspace(-4, 4, 20),\n",
    "              'solver' : ['liblinear']}\n",
    "\n",
    "clf_lr = GridSearchCV(lr, param_grid = param_grid, cv = 5, verbose = True, n_jobs = -1)\n",
    "best_clf_lr = clf_lr.fit(X_train,y_train)\n",
    "clf_performance(best_clf_lr,'Logistic Regression')"
   ]
  },
  {
   "cell_type": "code",
   "execution_count": 38,
   "id": "c8b4f5e7",
   "metadata": {
    "execution": {
     "iopub.execute_input": "2023-10-06T03:36:43.046412Z",
     "iopub.status.busy": "2023-10-06T03:36:43.045068Z",
     "iopub.status.idle": "2023-10-06T03:36:44.588789Z",
     "shell.execute_reply": "2023-10-06T03:36:44.588139Z"
    },
    "papermill": {
     "duration": 1.557783,
     "end_time": "2023-10-06T03:36:44.590668",
     "exception": false,
     "start_time": "2023-10-06T03:36:43.032885",
     "status": "completed"
    },
    "tags": []
   },
   "outputs": [
    {
     "name": "stdout",
     "output_type": "stream",
     "text": [
      "Fitting 5 folds for each of 48 candidates, totalling 240 fits\n",
      "KNN\n",
      "Best Score: 0.8271671583704727\n",
      "Best Parameters: {'algorithm': 'auto', 'n_neighbors': 7, 'p': 2, 'weights': 'uniform'}\n"
     ]
    }
   ],
   "source": [
    "knn = KNeighborsClassifier()\n",
    "param_grid = {'n_neighbors' : [3,5,7,9],\n",
    "              'weights' : ['uniform', 'distance'],\n",
    "              'algorithm' : ['auto', 'ball_tree','kd_tree'],\n",
    "              'p' : [1,2]}\n",
    "clf_knn = GridSearchCV(knn, param_grid = param_grid, cv = 5, verbose = True, n_jobs = -1)\n",
    "best_clf_knn = clf_knn.fit(X_train,y_train)\n",
    "clf_performance(best_clf_knn,'KNN')"
   ]
  },
  {
   "cell_type": "code",
   "execution_count": 39,
   "id": "969a6bb8",
   "metadata": {
    "execution": {
     "iopub.execute_input": "2023-10-06T03:36:44.615643Z",
     "iopub.status.busy": "2023-10-06T03:36:44.615214Z",
     "iopub.status.idle": "2023-10-06T03:38:43.276267Z",
     "shell.execute_reply": "2023-10-06T03:38:43.275073Z"
    },
    "papermill": {
     "duration": 118.682778,
     "end_time": "2023-10-06T03:38:43.285679",
     "exception": false,
     "start_time": "2023-10-06T03:36:44.602901",
     "status": "completed"
    },
    "tags": []
   },
   "outputs": [
    {
     "name": "stdout",
     "output_type": "stream",
     "text": [
      "Fitting 5 folds for each of 96 candidates, totalling 480 fits\n",
      "Random Forest\n",
      "Best Score: 0.832772581758835\n",
      "Best Parameters: {'bootstrap': True, 'criterion': 'entropy', 'max_depth': 20, 'max_features': 'sqrt', 'min_samples_leaf': 2, 'min_samples_split': 2, 'n_estimators': 400}\n"
     ]
    }
   ],
   "source": [
    "rf = RandomForestClassifier(random_state=1)\n",
    "param_grid = {\n",
    "    'n_estimators': [400, 450, 500, 550],\n",
    "    'criterion': ['gini', 'entropy'],\n",
    "    'bootstrap': [True],\n",
    "    'max_depth': [15, 20, 25],\n",
    "    'max_features': ['sqrt'],  # Set max_features to 'sqrt'\n",
    "    'min_samples_leaf': [2, 3],\n",
    "    'min_samples_split': [2, 3]\n",
    "}\n",
    "\n",
    "clf_rf = GridSearchCV(rf, param_grid=param_grid, cv=5, verbose=True, n_jobs=-1)\n",
    "best_clf_rf = clf_rf.fit(X_train, y_train)\n",
    "clf_performance(best_clf_rf, 'Random Forest')"
   ]
  },
  {
   "cell_type": "code",
   "execution_count": 40,
   "id": "ab557b4d",
   "metadata": {
    "execution": {
     "iopub.execute_input": "2023-10-06T03:38:43.310079Z",
     "iopub.status.busy": "2023-10-06T03:38:43.309693Z",
     "iopub.status.idle": "2023-10-06T03:43:11.891708Z",
     "shell.execute_reply": "2023-10-06T03:43:11.890393Z"
    },
    "papermill": {
     "duration": 268.60667,
     "end_time": "2023-10-06T03:43:11.903791",
     "exception": false,
     "start_time": "2023-10-06T03:38:43.297121",
     "status": "completed"
    },
    "tags": []
   },
   "outputs": [
    {
     "name": "stdout",
     "output_type": "stream",
     "text": [
      "Fitting 5 folds for each of 243 candidates, totalling 1215 fits\n",
      "XGB\n",
      "Best Score: 0.8496139602033772\n",
      "Best Parameters: {'colsample_bytree': 0.85, 'gamma': 0.5, 'learning_rate': 0.5, 'max_depth': None, 'min_child_weight': 0.01, 'n_estimators': 550, 'reg_alpha': 1, 'reg_lambda': 10, 'sampling_method': 'uniform', 'subsample': 0.55}\n"
     ]
    }
   ],
   "source": [
    "xgb = XGBClassifier(random_state = 1)\n",
    "\n",
    "param_grid = {\n",
    "    'n_estimators': [450,500,550],\n",
    "    'colsample_bytree': [0.75,0.8,0.85],\n",
    "    'max_depth': [None],\n",
    "    'reg_alpha': [1],\n",
    "    'reg_lambda': [2, 5, 10],\n",
    "    'subsample': [0.55, 0.6, .65],\n",
    "    'learning_rate':[0.5],\n",
    "    'gamma':[.5,1,2],\n",
    "    'min_child_weight':[0.01],\n",
    "    'sampling_method': ['uniform']\n",
    "}\n",
    "\n",
    "clf_xgb = GridSearchCV(xgb, param_grid = param_grid, cv = 5, verbose = True, n_jobs = -1)\n",
    "best_clf_xgb = clf_xgb.fit(X_train,y_train)\n",
    "clf_performance(best_clf_xgb,'XGB')"
   ]
  },
  {
   "cell_type": "code",
   "execution_count": 41,
   "id": "a8b48b45",
   "metadata": {
    "execution": {
     "iopub.execute_input": "2023-10-06T03:43:11.929541Z",
     "iopub.status.busy": "2023-10-06T03:43:11.928116Z",
     "iopub.status.idle": "2023-10-06T03:43:11.977377Z",
     "shell.execute_reply": "2023-10-06T03:43:11.975717Z"
    },
    "papermill": {
     "duration": 0.064949,
     "end_time": "2023-10-06T03:43:11.980041",
     "exception": false,
     "start_time": "2023-10-06T03:43:11.915092",
     "status": "completed"
    },
    "tags": []
   },
   "outputs": [],
   "source": [
    "pred_1 = best_clf_rf.best_estimator_.predict(X_test).astype(int)\n",
    "\n",
    "first_submission = {'PassengerId': df_test.index, 'Survived': pred_1}\n",
    "first_submission = pd.DataFrame(data=first_submission)\n",
    "first_submission.to_csv('submission.csv', index=False)"
   ]
  },
  {
   "cell_type": "code",
   "execution_count": null,
   "id": "60a48dbd",
   "metadata": {
    "papermill": {
     "duration": 0.011737,
     "end_time": "2023-10-06T03:43:12.003473",
     "exception": false,
     "start_time": "2023-10-06T03:43:11.991736",
     "status": "completed"
    },
    "tags": []
   },
   "outputs": [],
   "source": []
  }
 ],
 "metadata": {
  "kernelspec": {
   "display_name": "Python 3",
   "language": "python",
   "name": "python3"
  },
  "language_info": {
   "codemirror_mode": {
    "name": "ipython",
    "version": 3
   },
   "file_extension": ".py",
   "mimetype": "text/x-python",
   "name": "python",
   "nbconvert_exporter": "python",
   "pygments_lexer": "ipython3",
   "version": "3.10.12"
  },
  "papermill": {
   "default_parameters": {},
   "duration": 417.295848,
   "end_time": "2023-10-06T03:43:14.637706",
   "environment_variables": {},
   "exception": null,
   "input_path": "__notebook__.ipynb",
   "output_path": "__notebook__.ipynb",
   "parameters": {},
   "start_time": "2023-10-06T03:36:17.341858",
   "version": "2.4.0"
  }
 },
 "nbformat": 4,
 "nbformat_minor": 5
}
